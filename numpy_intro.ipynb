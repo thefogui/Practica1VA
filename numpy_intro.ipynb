{
 "cells": [
  {
   "cell_type": "markdown",
   "metadata": {},
   "source": [
    "# Short Numpy Tutorial\n",
    "\n",
    "This is a very short introduction to numpy, focused on the basic data structure, `ndarray`. Numpy is the most important scientific package in the Python ecosystem because it provides a common datastructure on which many other packages build on."
   ]
  },
  {
   "cell_type": "markdown",
   "metadata": {},
   "source": [
    "![Python scientific ecosystem](http://luispedro.org/files/talks/2013/EuBIAS/figures/sciwheel.png)"
   ]
  },
  {
   "cell_type": "markdown",
   "metadata": {},
   "source": [
    "To make this tutorial work on Python 2 & Python 3, let's import some future features into Python 2:"
   ]
  },
  {
   "cell_type": "code",
   "execution_count": 66,
   "metadata": {
    "collapsed": true
   },
   "outputs": [],
   "source": [
    "from __future__ import print_function, division"
   ]
  },
  {
   "cell_type": "code",
   "execution_count": 67,
   "metadata": {
    "collapsed": true
   },
   "outputs": [],
   "source": [
    "# np is the standard abbreviation for numpy in the code\n",
    "# Even the numpy docs use it\n",
    "import numpy as np"
   ]
  },
  {
   "cell_type": "markdown",
   "metadata": {},
   "source": [
    "## What is an ndarray?\n",
    "\n",
    "The `ndarray` is the biggest contribution of numpy. An ndarray is\n",
    "\n",
    "- a regular grid of N-dimensions,\n",
    "- homogeneous by default (all the elements have the same type),\n",
    "- contiguous block of memory with types corresponding to machine types (8-bit ints, 32 bit floats, 64-bit longs, ...).\n",
    "\n",
    "### Building an array (inline)\n",
    "\n",
    "We can build an array from Python lists:"
   ]
  },
  {
   "cell_type": "code",
   "execution_count": 68,
   "metadata": {},
   "outputs": [
    {
     "name": "stdout",
     "output_type": "stream",
     "text": [
      "[[ 1.2  2.3  4. ]\n",
      " [ 1.2  3.4  5.2]\n",
      " [ 0.   1.   1.3]\n",
      " [ 0.   1.   0.2]]\n"
     ]
    }
   ],
   "source": [
    "arr = np.array([\n",
    "    [1.2, 2.3, 4.0],\n",
    "    [1.2, 3.4, 5.2],\n",
    "    [0.0, 1.0, 1.3],\n",
    "    [0.0, 1.0, 2e-1]])\n",
    "print(arr)"
   ]
  },
  {
   "cell_type": "markdown",
   "metadata": {},
   "source": [
    "Note: Check how to specify the type of the array. Create a 2D matrix of 3 rows and 4 columns initializing with values chosen by you and specify the type of the elements as float.\n",
    "    "
   ]
  },
  {
   "cell_type": "markdown",
   "metadata": {},
   "source": [
    "Create a three-dimensional array of 100x100x3 elements of type integer stored by 32 bits. How many ways to do it, do you find?"
   ]
  },
  {
   "cell_type": "markdown",
   "metadata": {},
   "source": [
    "### Inspecting array properties"
   ]
  },
  {
   "cell_type": "code",
   "execution_count": 69,
   "metadata": {},
   "outputs": [
    {
     "name": "stdout",
     "output_type": "stream",
     "text": [
      "float64\n",
      "2\n",
      "(4, 3)\n"
     ]
    }
   ],
   "source": [
    "print(arr.dtype)\n",
    "print(arr.ndim)\n",
    "print(arr.shape)"
   ]
  },
  {
   "cell_type": "markdown",
   "metadata": {},
   "source": [
    "This array is of `float64` (at least on my computer, probably on yours too), it has 2 dimensions and its shape is 4 rows and 3 columns.\n",
    "\n",
    "When constructing an array, we can explicitly specify the type:"
   ]
  },
  {
   "cell_type": "code",
   "execution_count": 70,
   "metadata": {},
   "outputs": [
    {
     "name": "stdout",
     "output_type": "stream",
     "text": [
      "[1 2 3]\n"
     ]
    }
   ],
   "source": [
    "iarr = np.array([1,2,3], dtype='uint8')\n",
    "print(iarr)"
   ]
  },
  {
   "cell_type": "markdown",
   "metadata": {},
   "source": [
    "Arithmetic operations on the array : we should take into account that the type has to be respected."
   ]
  },
  {
   "cell_type": "code",
   "execution_count": 71,
   "metadata": {},
   "outputs": [
    {
     "name": "stdout",
     "output_type": "stream",
     "text": [
      "[[  3.     5.75  10.  ]\n",
      " [  3.     8.5   13.  ]\n",
      " [  0.     2.5    3.25]\n",
      " [  0.     2.5    0.5 ]]\n",
      "[2 4 6]\n"
     ]
    }
   ],
   "source": [
    "arr *= 2.5\n",
    "iarr *= 2\n",
    "print(arr)\n",
    "print(iarr)"
   ]
  },
  {
   "cell_type": "markdown",
   "metadata": {},
   "source": [
    "Ex: What is the problem of:\n",
    "\n",
    "`iarr *= 2.5 ?`"
   ]
  },
  {
   "cell_type": "code",
   "execution_count": 72,
   "metadata": {},
   "outputs": [
    {
     "ename": "TypeError",
     "evalue": "Cannot cast ufunc multiply output from dtype('float64') to dtype('uint8') with casting rule 'same_kind'",
     "output_type": "error",
     "traceback": [
      "\u001b[0;31m---------------------------------------------------------------------------\u001b[0m",
      "\u001b[0;31mTypeError\u001b[0m                                 Traceback (most recent call last)",
      "\u001b[0;32m<ipython-input-72-bb53a2905c04>\u001b[0m in \u001b[0;36m<module>\u001b[0;34m()\u001b[0m\n\u001b[0;32m----> 1\u001b[0;31m \u001b[0miarr\u001b[0m \u001b[0;34m*=\u001b[0m \u001b[0;36m2.5\u001b[0m\u001b[0;34m\u001b[0m\u001b[0m\n\u001b[0m",
      "\u001b[0;31mTypeError\u001b[0m: Cannot cast ufunc multiply output from dtype('float64') to dtype('uint8') with casting rule 'same_kind'"
     ]
    }
   ],
   "source": [
    "iarr *= 2.5 "
   ]
  },
  {
   "cell_type": "code",
   "execution_count": null,
   "metadata": {},
   "outputs": [],
   "source": [
    "\"\"\"Solution\"\"\"\n",
    "iarr = iarr.astype(float)\n",
    "iarr *= 2.5 "
   ]
  },
  {
   "cell_type": "markdown",
   "metadata": {},
   "source": [
    "Has the type of the `iarr` array chaged?\n",
    "Notice that numpy array creates variable with a certain type. If we do not consider it, our code will not work!"
   ]
  },
  {
   "cell_type": "code",
   "execution_count": null,
   "metadata": {},
   "outputs": [],
   "source": [
    "print(iarr.dtype)\n",
    "print(iarr)\n"
   ]
  },
  {
   "cell_type": "markdown",
   "metadata": {},
   "source": [
    "## Indexing"
   ]
  },
  {
   "cell_type": "markdown",
   "metadata": {},
   "source": [
    "### Slicing & Dicing\n",
    "\n",
    "We can use Python's `[]` operator to slice and address the array:\n",
    "\n",
    "Below, you can see some examples of how we can read a matrix; "
   ]
  },
  {
   "cell_type": "code",
   "execution_count": null,
   "metadata": {},
   "outputs": [],
   "source": [
    "print(arr) # The whole matrix\n",
    "print(arr[0,0]) # First row, first column\n",
    "print(arr[1]) # The whole second row\n",
    "print(arr[:,2]) # The whole third column"
   ]
  },
  {
   "cell_type": "markdown",
   "metadata": {},
   "source": [
    "### Working with slices of an array.\n",
    "\n",
    "Slices share memory with the original array! In the following code, the variable `view` corresponds to a slice of the array `arr`."
   ]
  },
  {
   "cell_type": "code",
   "execution_count": null,
   "metadata": {},
   "outputs": [],
   "source": [
    "# The position arr[1,0] = x. If we move its value to view, and modify view, we can see how arr[1,0] also is modifed.\n",
    "\n",
    "print(\"Before: {}\".format(arr[1,0]))\n",
    "\n",
    "# adding 100\n",
    "view = arr[1]\n",
    "view[0] += 100\n",
    "\n",
    "print(\"After: {}\".format(arr[1,0]))"
   ]
  },
  {
   "cell_type": "markdown",
   "metadata": {},
   "source": [
    "Ex: How can we avoid memory sharing between variables? We should use the `.copy()` function."
   ]
  },
  {
   "cell_type": "code",
   "execution_count": null,
   "metadata": {},
   "outputs": [],
   "source": [
    "\"\"\"Solution\"\"\"\n",
    "print(\"Before: {}\".format(arr[1,0]))\n",
    "view = arr.copy()[1]\n",
    "view[0] += 100\n",
    "print(\"After: {}\".format(arr[1,0]))"
   ]
  },
  {
   "cell_type": "markdown",
   "metadata": {},
   "source": [
    "### Visual illustration of slicing"
   ]
  },
  {
   "cell_type": "code",
   "execution_count": null,
   "metadata": {
    "collapsed": true
   },
   "outputs": [],
   "source": [
    "a = np.array([\n",
    "       [ 0,  1,  2,  3,  4,  5],\n",
    "       [10, 11, 12, 13, 14, 15],\n",
    "       [20, 21, 22, 23, 24, 25],\n",
    "       [30, 31, 32, 33, 34, 35],\n",
    "       [40, 41, 42, 43, 44, 45],\n",
    "       [50, 51, 52, 53, 54, 55]])"
   ]
  },
  {
   "cell_type": "markdown",
   "metadata": {},
   "source": [
    "![slicing](https://scipy-lectures.github.io/_images/numpy_indexing.png)\n",
    "\n",
    "This image is taken from [scipy-lectures](https://scipy-lectures.github.io/intro/numpy/array_object.html), a more complete tutorial on numpy than what we have here."
   ]
  },
  {
   "cell_type": "markdown",
   "metadata": {},
   "source": [
    "## Boolean operations\n",
    "\n",
    "An important subset of operations with numpy arrays concerns using logical operators to build boolean arrays. For example:\n"
   ]
  },
  {
   "cell_type": "code",
   "execution_count": null,
   "metadata": {},
   "outputs": [],
   "source": [
    "is_greater_one = (arr >= 1.)\n",
    "print(is_greater_one)"
   ]
  },
  {
   "cell_type": "code",
   "execution_count": null,
   "metadata": {},
   "outputs": [],
   "source": [
    "print (arr)"
   ]
  },
  {
   "cell_type": "markdown",
   "metadata": {
    "collapsed": true
   },
   "source": [
    "Ex: Put -10 in all elements of `arr` that are bigger than 100."
   ]
  },
  {
   "cell_type": "code",
   "execution_count": null,
   "metadata": {},
   "outputs": [],
   "source": [
    "\"\"\"Solution\"\"\"\n",
    "arr[(arr>100)] = -10\n",
    "print(arr)"
   ]
  },
  {
   "cell_type": "markdown",
   "metadata": {},
   "source": [
    "Ex: Construct a second array `arr2` that contains only the values of `arr` that are between 30 and 50."
   ]
  },
  {
   "cell_type": "code",
   "execution_count": null,
   "metadata": {},
   "outputs": [],
   "source": [
    "\"\"\"Solution\"\"\"\n",
    "arr2 = arr[(arr>30)&(arr<50)]\n",
    "print(arr2)"
   ]
  },
  {
   "cell_type": "markdown",
   "metadata": {},
   "source": [
    "## Basic functions on arrays\n",
    "\n"
   ]
  },
  {
   "cell_type": "code",
   "execution_count": null,
   "metadata": {},
   "outputs": [],
   "source": [
    "arr.mean()"
   ]
  },
  {
   "cell_type": "markdown",
   "metadata": {},
   "source": [
    "Also available: `max`, `min`, `sum`, `ptp` (point-to-point, i.e., difference between maximum and minimum values).\n",
    "\n",
    "These functions can also work *axis-wise*:"
   ]
  },
  {
   "cell_type": "code",
   "execution_count": null,
   "metadata": {},
   "outputs": [],
   "source": [
    "arr.mean(axis=0)"
   ]
  },
  {
   "cell_type": "markdown",
   "metadata": {},
   "source": [
    "In order to save code lines, an important trick is to combine logical operations:"
   ]
  },
  {
   "cell_type": "code",
   "execution_count": null,
   "metadata": {},
   "outputs": [],
   "source": [
    "is_greater_one = (arr > 1)\n",
    "print(is_greater_one)\n",
    "print(is_greater_one.mean())"
   ]
  },
  {
   "cell_type": "markdown",
   "metadata": {},
   "source": [
    "## Broadcasting\n",
    "\n",
    "You can often perform operations along the array bu "
   ]
  },
  {
   "cell_type": "code",
   "execution_count": null,
   "metadata": {
    "scrolled": true
   },
   "outputs": [],
   "source": [
    "print(arr)\n",
    "print(\"Now adding [1,1,0] to *every row*\")\n",
    "print()\n",
    "arr += np.array([1,1,0])\n",
    "print(arr)"
   ]
  },
  {
   "cell_type": "markdown",
   "metadata": {},
   "source": [
    "Ex: Add the vector [1,2,3,4] to each column."
   ]
  },
  {
   "cell_type": "code",
   "execution_count": null,
   "metadata": {},
   "outputs": [],
   "source": [
    "\"\"\"Solution\"\"\"\n",
    "print(arr)\n",
    "arr3 = arr.transpose()\n",
    "arr3 += np.array([1,2,3,4])\n",
    "arr = arr3.transpose()\n",
    "print(arr)"
   ]
  },
  {
   "cell_type": "markdown",
   "metadata": {},
   "source": [
    "The exact [rules of how broadcasting works](http://docs.scipy.org/doc/numpy/user/basics.broadcasting.html) are a bit complex to explain, but it generally works as expected. For example, if your data is a set of measurements for a sample, and your columns are the different types of measurements, then, you can easily remove the mean like this:"
   ]
  },
  {
   "cell_type": "markdown",
   "metadata": {},
   "source": [
    "## Footnotes\n",
    "\n",
    "[homogeneous]: There is a loophole to get heterogeneous arrays, namely an array of `object`. Then, you can store any Python object. This comes at the cost of decreased computational efficiency (both in terms of processing time and memory usage)."
   ]
  },
  {
   "cell_type": "code",
   "execution_count": null,
   "metadata": {},
   "outputs": [],
   "source": [
    "arr = np.array([\n",
    "    [1.2, 2.3, 4.0],\n",
    "    [1.2, 3.4, 5.2],\n",
    "    [0.0, 1.0, 1.3],\n",
    "    [0.0, 1.0, 2e-1]])\n",
    "print ('The original matrix is:\\n ', arr)\n",
    "print()\n",
    "print('The average value per column is: ',arr.mean(0))\n",
    "print('The average value per row is: ',arr.mean(1))\n",
    "print()\n",
    "# here we make a copy of the variable arr since we will modify it several times\n",
    "arr_aux1 = arr.copy()\n",
    "arr_aux2 = arr.copy()\n",
    "\n",
    "# we substract the average values to the whole matrix, first row based and later column based\n",
    "\n",
    "arr_aux1 -= arr.mean(0)\n",
    "print('The average value after subtracting the average values per row is: ') \n",
    "print(arr_aux1)\n",
    "\n",
    "arr_aux2 = arr_aux2.transpose()\n",
    "arr_aux2 -= arr.mean(1)\n",
    "print('The average value after subtracting the average values per coloumn is: ')\n",
    "print(arr_aux2)\n",
    "print()\n",
    "\n",
    "# The normalization is performed by dividing the matrix by its mean. \n",
    "print(arr.mean())\n",
    "print ('The original matrix after normalizing is:\\n ', arr/arr.mean())"
   ]
  },
  {
   "cell_type": "code",
   "execution_count": null,
   "metadata": {
    "collapsed": true
   },
   "outputs": [],
   "source": []
  }
 ],
 "metadata": {
  "kernelspec": {
   "display_name": "Python 2",
   "language": "python",
   "name": "python2"
  },
  "language_info": {
   "codemirror_mode": {
    "name": "ipython",
    "version": 2
   },
   "file_extension": ".py",
   "mimetype": "text/x-python",
   "name": "python",
   "nbconvert_exporter": "python",
   "pygments_lexer": "ipython2",
   "version": "2.7.13"
  }
 },
 "nbformat": 4,
 "nbformat_minor": 1
}
